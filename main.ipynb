{
 "cells": [
  {
   "attachments": {},
   "cell_type": "markdown",
   "metadata": {},
   "source": [
    "Check for API_KEY in virtual environment variables"
   ]
  },
  {
   "cell_type": "code",
   "execution_count": null,
   "metadata": {},
   "outputs": [],
   "source": [
    "# Import os module\n",
    "import os\n",
    "\n",
    "# Iterate loop to read and print all environment variables\n",
    "# print(\"The keys and values of all environment variables:\")\n",
    "# for key in os.environ:\n",
    "#     print(key, '=>', os.environ[key])\n",
    "\n",
    "# Print the value of the particular environment variable\n",
    "print(\"The value of API_KEY is: \", os.environ['API_KEY'])\n"
   ]
  },
  {
   "attachments": {},
   "cell_type": "markdown",
   "metadata": {},
   "source": [
    "# Text generation"
   ]
  },
  {
   "cell_type": "code",
   "execution_count": 4,
   "metadata": {},
   "outputs": [
    {
     "name": "stdout",
     "output_type": "stream",
     "text": [
      "lived in a castle with her family. She was very kind and generous, and was loved by all the people in the kingdom. One day, she went for a walk in the forest and stumbled upon a magical pond. When she looked into the pond, she saw her reflection transform into a beautiful swan. She was so amazed by the transformation that she decided to make the pond her secret hideaway. Every day, she would go there and sit by the pond, watching the swans and dreaming of her own transformation. \n",
      "\n",
      "Soon, the news of the magical pond spread throughout the kingdom and people began to flock to it, hoping to witness the transformation of the princess. But the princess kept the pond a secret, only visiting it when she was sure no one was watching. \n",
      "\n",
      "One day, a handsome prince happened upon the pond and saw the princess in her swan form. He was so enchanted by her beauty that he asked her to marry him. The princess was hesitant at first, but eventually agreed to be his bride. \n",
      "\n",
      "The prince and princess were married in a grand ceremony and lived happily ever after. The magical pond became a symbol of their love and the people of the kingdom celebrated the union of the prince and princess. \n",
      "\n",
      "The magical pond still stands today, a reminder of the power of love and the beauty of transformation.\n"
     ]
    }
   ],
   "source": [
    "import openai\n",
    "import os\n",
    "\n",
    "# Define OpenAI API key \n",
    "openai.api_key = os.environ['API_KEY']\n",
    "\n",
    "# Set up the model and prompt\n",
    "model_engine = \"text-davinci-003\"\n",
    "prompt = \"Once upon a time, in a land far, far away, there was a princess who...\"\n",
    "\n",
    "# Generate a response\n",
    "completion = openai.Completion.create(\n",
    "    engine=model_engine,\n",
    "    prompt=prompt,\n",
    "    max_tokens=1024,\n",
    "    n=1,\n",
    "    stop=None,\n",
    "    temperature=0.5,\n",
    ")\n",
    "\n",
    "response = completion.choices[0].text\n",
    "print(response)"
   ]
  },
  {
   "cell_type": "code",
   "execution_count": null,
   "metadata": {},
   "outputs": [],
   "source": [
    "from io import BytesIO\n",
    "from PIL import Image\n",
    "import requests\n",
    "import IPython.display as Disp\n",
    "import openai\n",
    "import os\n",
    "\n",
    "# Define OpenAI API key \n",
    "openai.api_key = os.environ['API_KEY']\n",
    "\n",
    "# Read the image file from disk and resize it\n",
    "image = Image.open(\"image.png\")\n",
    "width, height = 256, 256\n",
    "image = image.resize((width, height))\n",
    "\n",
    "# Convert the image to a BytesIO object\n",
    "byte_stream = BytesIO()\n",
    "image.save(byte_stream, format='PNG')\n",
    "byte_array = byte_stream.getvalue()\n",
    "\n",
    "response = openai.Image.create_variation(\n",
    "  image=byte_array,\n",
    "  n=1,\n",
    "  size=\"256x256\"\n",
    ")\n",
    "\n",
    "image_url = response['data'][0]['url']\n",
    "\n",
    "Disp.Image(requests.get(image_url).content)"
   ]
  },
  {
   "cell_type": "code",
   "execution_count": null,
   "metadata": {},
   "outputs": [],
   "source": [
    "from io import BytesIO\n",
    "from PIL import Image\n",
    "import requests\n",
    "import IPython.display as Disp\n",
    "import openai\n",
    "import os\n",
    "\n",
    "# Define OpenAI API key \n",
    "openai.api_key = os.environ['API_KEY']\n",
    "\n",
    "response = openai.Image.create(\n",
    "  prompt=\"a zebra smelling a flower\",\n",
    "  n=1,\n",
    "  size=\"256x256\"\n",
    ")\n",
    "\n",
    "image_url = response['data'][0]['url']\n",
    "Disp.Image(requests.get(image_url).content)"
   ]
  },
  {
   "attachments": {},
   "cell_type": "markdown",
   "metadata": {},
   "source": [
    "# Insert image into background"
   ]
  },
  {
   "cell_type": "code",
   "execution_count": null,
   "metadata": {},
   "outputs": [],
   "source": [
    "from io import BytesIO\n",
    "from PIL import Image\n",
    "import requests\n",
    "import IPython.display as Disp\n",
    "import openai\n",
    "import os\n",
    "\n",
    "# Define OpenAI API key \n",
    "openai.api_key = os.environ['API_KEY']\n",
    "\n",
    "image = Image.open(\"background.png\")\n",
    "width, height = 1024, 1024\n",
    "background_image = image.resize((width, height))\n",
    "background_image = background_image.convert(\"RGBA\")\n",
    "background_image.save('new_background.png')\n",
    "\n",
    "\n",
    "# Make mask from black and white image (black areas are masked)\n",
    "img = Image.open('paint_mask.png')\n",
    "img = img.convert(\"RGBA\")\n",
    "datas = img.getdata()\n",
    "\n",
    "newData = []\n",
    "for item in datas:\n",
    "    if item[0] == 0 and item[1] == 0 and item[2] == 0:\n",
    "        newData.append((0, 0, 0, 0))\n",
    "    else:\n",
    "        newData.append(item)\n",
    "\n",
    "img.putdata(newData)\n",
    "img.save(\"mask.png\", \"PNG\")\n",
    "\n",
    "response = openai.Image.create_edit(\n",
    "  image=open(\"new_background.png\",\"rb\"),\n",
    "  mask=open(\"mask.png\", \"rb\"),\n",
    "  prompt=\"An office containing a person\",\n",
    "  n=1,\n",
    "  size=\"256x256\"\n",
    ")\n",
    "image_url = response['data'][0]['url']\n",
    "Disp.Image(requests.get(image_url).content)"
   ]
  },
  {
   "attachments": {},
   "cell_type": "markdown",
   "metadata": {},
   "source": [
    "Recipe creator"
   ]
  },
  {
   "cell_type": "code",
   "execution_count": 2,
   "metadata": {},
   "outputs": [],
   "source": [
    "import os\n",
    "import openai\n",
    "\n",
    "# Define OpenAI API key \n",
    "openai.api_key = os.environ['API_KEY']\n",
    "\n",
    "response = openai.Completion.create(\n",
    "  model=\"text-davinci-003\",\n",
    "  prompt=\"Write a recipe based on these ingredients and instructions:\\n\\nFrito Pie\\n\\nIngredients:\\nFritos\\nChili\\nShredded cheddar cheese\\nSweet white or red onions, diced small\\nSour cream\\n\\nInstructions:\",\n",
    "  temperature=0.3,\n",
    "  max_tokens=120,\n",
    "  top_p=1.0,\n",
    "  frequency_penalty=0.0,\n",
    "  presence_penalty=0.0\n",
    ")\n",
    "print(response.choices[0].text)"
   ]
  }
 ],
 "metadata": {
  "kernelspec": {
   "display_name": "venv",
   "language": "python",
   "name": "python3"
  },
  "language_info": {
   "codemirror_mode": {
    "name": "ipython",
    "version": 3
   },
   "file_extension": ".py",
   "mimetype": "text/x-python",
   "name": "python",
   "nbconvert_exporter": "python",
   "pygments_lexer": "ipython3",
   "version": "3.8.10"
  },
  "orig_nbformat": 4,
  "vscode": {
   "interpreter": {
    "hash": "a0d08d8c1f1af1c768a29f93831f3abbcd3db5d10bfad888a2df3bddd9cbcfbe"
   }
  }
 },
 "nbformat": 4,
 "nbformat_minor": 2
}
